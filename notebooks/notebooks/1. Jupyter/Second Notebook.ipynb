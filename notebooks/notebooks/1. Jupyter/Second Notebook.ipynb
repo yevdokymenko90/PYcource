{
 "cells": [
  {
   "cell_type": "code",
   "execution_count": null,
   "id": "0d3c4ae7",
   "metadata": {},
   "outputs": [],
   "source": [
    "import os"
   ]
  },
  {
   "cell_type": "code",
   "execution_count": 2,
   "id": "5495abcc",
   "metadata": {},
   "outputs": [
    {
     "data": {
      "text/plain": [
       "<module 'os' (frozen)>"
      ]
     },
     "execution_count": 2,
     "metadata": {},
     "output_type": "execute_result"
    }
   ],
   "source": [
    "os"
   ]
  },
  {
   "cell_type": "code",
   "execution_count": 4,
   "id": "62731fa5",
   "metadata": {},
   "outputs": [
    {
     "data": {
      "text/plain": [
       "environ{'TERM_SESSION_ID': 'w0t0p0:A949F852-601A-4447-992D-472020027C7D',\n",
       "        'SSH_AUTH_SOCK': '/private/tmp/com.apple.launchd.g7Ywz4uPEJ/Listeners',\n",
       "        'LC_TERMINAL_VERSION': '3.4.18',\n",
       "        'COLORFGBG': '7;0',\n",
       "        'ITERM_PROFILE': 'Default',\n",
       "        'XPC_FLAGS': '0x0',\n",
       "        'LANG': 'en_US.UTF-8',\n",
       "        'PWD': '/Users/bogdan',\n",
       "        'SHELL': '/bin/zsh',\n",
       "        '__CFBundleIdentifier': 'com.googlecode.iterm2',\n",
       "        'SECURITYSESSIONID': '186a6',\n",
       "        'TERM_PROGRAM_VERSION': '3.4.18',\n",
       "        'TERM_PROGRAM': 'iTerm.app',\n",
       "        'PATH': '/Library/Frameworks/Python.framework/Versions/3.11/bin:/usr/local/bin:/System/Cryptexes/App/usr/bin:/usr/bin:/bin:/usr/sbin:/sbin',\n",
       "        'LC_TERMINAL': 'iTerm2',\n",
       "        'COLORTERM': 'truecolor',\n",
       "        'COMMAND_MODE': 'unix2003',\n",
       "        'TERM': 'xterm-color',\n",
       "        'HOME': '/Users/bogdan',\n",
       "        'TMPDIR': '/var/folders/28/ky376qqn7ds4wbxn72_j9h440000gn/T/',\n",
       "        'USER': 'bogdan',\n",
       "        'XPC_SERVICE_NAME': '0',\n",
       "        'LOGNAME': 'bogdan',\n",
       "        'LaunchInstanceID': '1DB8A753-8516-499A-9D3A-C55D8E041B0C',\n",
       "        '__CF_USER_TEXT_ENCODING': '0x1F5:0x0:0x0',\n",
       "        'ITERM_SESSION_ID': 'w0t0p0:A949F852-601A-4447-992D-472020027C7D',\n",
       "        'SHLVL': '1',\n",
       "        'OLDPWD': '/Users/bogdan',\n",
       "        'ZSH': '/Users/bogdan/.oh-my-zsh',\n",
       "        'PAGER': 'cat',\n",
       "        'LESS': '-R',\n",
       "        'LSCOLORS': 'Gxfxcxdxbxegedabagacad',\n",
       "        'LS_COLORS': 'di=1;36:ln=35:so=32:pi=33:ex=31:bd=34;46:cd=34;43:su=30;41:sg=30;46:tw=30;42:ow=30;43',\n",
       "        '_': '/Library/Frameworks/Python.framework/Versions/3.11/bin/jupyter',\n",
       "        'PYDEVD_USE_FRAME_EVAL': 'NO',\n",
       "        'JPY_PARENT_PID': '1034',\n",
       "        'CLICOLOR': '1',\n",
       "        'FORCE_COLOR': '1',\n",
       "        'CLICOLOR_FORCE': '1',\n",
       "        'GIT_PAGER': 'cat',\n",
       "        'MPLBACKEND': 'module://matplotlib_inline.backend_inline'}"
      ]
     },
     "execution_count": 4,
     "metadata": {},
     "output_type": "execute_result"
    }
   ],
   "source": [
    "os.environ"
   ]
  },
  {
   "cell_type": "code",
   "execution_count": 5,
   "id": "194a2101",
   "metadata": {},
   "outputs": [
    {
     "data": {
      "text/plain": [
       "<function print(*args, sep=' ', end='\\n', file=None, flush=False)>"
      ]
     },
     "execution_count": 5,
     "metadata": {},
     "output_type": "execute_result"
    }
   ],
   "source": [
    "print"
   ]
  }
 ],
 "metadata": {
  "kernelspec": {
   "display_name": "Python 3 (ipykernel)",
   "language": "python",
   "name": "python3"
  },
  "language_info": {
   "codemirror_mode": {
    "name": "ipython",
    "version": 3
   },
   "file_extension": ".py",
   "mimetype": "text/x-python",
   "name": "python",
   "nbconvert_exporter": "python",
   "pygments_lexer": "ipython3",
   "version": "3.11.3"
  }
 },
 "nbformat": 4,
 "nbformat_minor": 5
}
