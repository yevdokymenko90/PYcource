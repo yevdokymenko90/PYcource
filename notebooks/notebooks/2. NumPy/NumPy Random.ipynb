{
 "cells": [
  {
   "cell_type": "code",
   "execution_count": 1,
   "id": "22f930f7-4163-4b0b-a6d7-dd32231a72f1",
   "metadata": {},
   "outputs": [],
   "source": [
    "import numpy as np"
   ]
  },
  {
   "cell_type": "code",
   "execution_count": 4,
   "id": "5d249c81-3f99-471b-91f5-16dba7d15c28",
   "metadata": {},
   "outputs": [
    {
     "data": {
      "text/plain": [
       "array([[0., 0., 0., 0.],\n",
       "       [0., 0., 0., 0.],\n",
       "       [0., 0., 0., 0.]])"
      ]
     },
     "execution_count": 4,
     "metadata": {},
     "output_type": "execute_result"
    }
   ],
   "source": [
    "np.zeros((3, 4))"
   ]
  },
  {
   "cell_type": "code",
   "execution_count": 9,
   "id": "7597000e-b272-4356-821c-42eae0ad5411",
   "metadata": {},
   "outputs": [
    {
     "data": {
      "text/plain": [
       "array([[0, 0, 0, 0],\n",
       "       [0, 0, 0, 0]])"
      ]
     },
     "execution_count": 9,
     "metadata": {},
     "output_type": "execute_result"
    }
   ],
   "source": [
    "np.zeros((2, 4), dtype=int)"
   ]
  },
  {
   "cell_type": "code",
   "execution_count": 10,
   "id": "fb14673b-8472-4a25-8d5a-24605a025fa7",
   "metadata": {},
   "outputs": [
    {
     "data": {
      "text/plain": [
       "array([[1, 1, 1],\n",
       "       [1, 1, 1],\n",
       "       [1, 1, 1],\n",
       "       [1, 1, 1],\n",
       "       [1, 1, 1]])"
      ]
     },
     "execution_count": 10,
     "metadata": {},
     "output_type": "execute_result"
    }
   ],
   "source": [
    "np.ones((5, 3), dtype=int)"
   ]
  },
  {
   "cell_type": "code",
   "execution_count": 47,
   "id": "499d639f-6981-41a0-aeba-7874bdbab47b",
   "metadata": {},
   "outputs": [
    {
     "data": {
      "text/plain": [
       "array([[0.77132064, 0.02075195, 0.63364823, 0.74880388, 0.49850701],\n",
       "       [0.22479665, 0.19806286, 0.76053071, 0.16911084, 0.08833981],\n",
       "       [0.68535982, 0.95339335, 0.00394827, 0.51219226, 0.81262096]])"
      ]
     },
     "execution_count": 47,
     "metadata": {},
     "output_type": "execute_result"
    }
   ],
   "source": [
    "np.random.seed(10)\n",
    "np.random.random((3, 5))"
   ]
  },
  {
   "cell_type": "code",
   "execution_count": 56,
   "id": "fc06f40b-e9cb-4063-9957-4b2450f5fd34",
   "metadata": {},
   "outputs": [
    {
     "data": {
      "text/plain": [
       "array([[18, 15, 15, 17],\n",
       "       [10, 17, 15, 16]])"
      ]
     },
     "execution_count": 56,
     "metadata": {},
     "output_type": "execute_result"
    }
   ],
   "source": [
    "np.random.seed(15)\n",
    "np.random.randint(10, 20, size=(2,4))"
   ]
  },
  {
   "cell_type": "code",
   "execution_count": 58,
   "id": "4ad2b643-c40e-48f2-9e46-e50271c6e9b2",
   "metadata": {},
   "outputs": [
    {
     "data": {
      "text/plain": [
       "array([[0.77132064, 0.02075195, 0.63364823, 0.74880388, 0.49850701],\n",
       "       [0.22479665, 0.19806286, 0.76053071, 0.16911084, 0.08833981],\n",
       "       [0.68535982, 0.95339335, 0.00394827, 0.51219226, 0.81262096]])"
      ]
     },
     "execution_count": 58,
     "metadata": {},
     "output_type": "execute_result"
    }
   ],
   "source": [
    "# same as random\n",
    "np.random.seed(10)\n",
    "np.random.uniform(size=(3, 5))"
   ]
  },
  {
   "cell_type": "code",
   "execution_count": 60,
   "id": "c3fc240a-493d-4565-9e8f-3c5c9da86c4e",
   "metadata": {},
   "outputs": [
    {
     "data": {
      "text/plain": [
       "array([[40.85282573, 10.83007797, 35.3459294 , 39.9521553 , 29.94028049],\n",
       "       [18.99186582, 17.92251459, 40.42122849, 16.76443346, 13.53359257],\n",
       "       [37.41439273, 48.13573385, 10.15793065, 30.48769054, 42.50483847]])"
      ]
     },
     "execution_count": 60,
     "metadata": {},
     "output_type": "execute_result"
    }
   ],
   "source": [
    "np.random.seed(10)\n",
    "np.random.uniform(10.0, 50.0, size=(3, 5))"
   ]
  },
  {
   "cell_type": "code",
   "execution_count": 67,
   "id": "dd70a835-aaf0-4c76-bc9f-2f4aed9981e7",
   "metadata": {},
   "outputs": [
    {
     "data": {
      "text/plain": [
       "array([2, 2, 1, 1, 2, 1, 2, 2, 1, 2])"
      ]
     },
     "execution_count": 67,
     "metadata": {},
     "output_type": "execute_result"
    }
   ],
   "source": [
    "np.random.seed(10)\n",
    "np.random.choice(np.array([1, 2, 3]), size=10)"
   ]
  },
  {
   "cell_type": "code",
   "execution_count": 65,
   "id": "2a4ed258-4b2d-4d50-9451-aa1bda11f875",
   "metadata": {},
   "outputs": [
    {
     "data": {
      "text/plain": [
       "array(['b', 'b', 'a', 'a', 'b', 'a', 'b', 'b', 'a', 'b'], dtype='<U1')"
      ]
     },
     "execution_count": 65,
     "metadata": {},
     "output_type": "execute_result"
    }
   ],
   "source": [
    "np.random.seed(10)\n",
    "np.random.choice(np.array(['a', 'b', 'c']), size=10)"
   ]
  }
 ],
 "metadata": {
  "kernelspec": {
   "display_name": "Python 3 (ipykernel)",
   "language": "python",
   "name": "python3"
  },
  "language_info": {
   "codemirror_mode": {
    "name": "ipython",
    "version": 3
   },
   "file_extension": ".py",
   "mimetype": "text/x-python",
   "name": "python",
   "nbconvert_exporter": "python",
   "pygments_lexer": "ipython3",
   "version": "3.11.3"
  }
 },
 "nbformat": 4,
 "nbformat_minor": 5
}
