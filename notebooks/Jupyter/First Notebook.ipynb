{
 "cells": [
  {
   "cell_type": "markdown",
   "id": "f02560c6-dc09-4d64-a7db-d5c8ec17672e",
   "metadata": {},
   "source": [
    "## FIRST SECTION"
   ]
  },
  {
   "cell_type": "code",
   "execution_count": 6,
   "id": "c3d3a39c-f558-4cbf-ad09-941be5bb6dfc",
   "metadata": {},
   "outputs": [
    {
     "data": {
      "text/plain": [
       "12"
      ]
     },
     "execution_count": 6,
     "metadata": {},
     "output_type": "execute_result"
    }
   ],
   "source": [
    "10 + 2"
   ]
  },
  {
   "cell_type": "code",
   "execution_count": 7,
   "id": "6eb24e97-a811-472d-ad51-a9e92a5ea221",
   "metadata": {},
   "outputs": [
    {
     "data": {
      "text/plain": [
       "'Dmytro'"
      ]
     },
     "execution_count": 7,
     "metadata": {},
     "output_type": "execute_result"
    }
   ],
   "source": [
    "my_name = 'Dmytro'\n",
    "my_name"
   ]
  },
  {
   "cell_type": "code",
   "execution_count": 8,
   "id": "3ae814e1-ba99-45ff-b804-9d306879f41c",
   "metadata": {},
   "outputs": [
    {
     "data": {
      "text/plain": [
       "'Dmytro'"
      ]
     },
     "execution_count": 8,
     "metadata": {},
     "output_type": "execute_result"
    }
   ],
   "source": [
    "my_name"
   ]
  },
  {
   "cell_type": "markdown",
   "id": "3ee761e4-7dee-4fb5-8d29-8ae2cc94b2e9",
   "metadata": {},
   "source": [
    "## SECOND SECTION"
   ]
  },
  {
   "cell_type": "code",
   "execution_count": 9,
   "id": "7f4890c5-26bf-40a1-8016-669119114a72",
   "metadata": {},
   "outputs": [
    {
     "data": {
      "text/plain": [
       "'My name is Dmytro'"
      ]
     },
     "execution_count": 9,
     "metadata": {},
     "output_type": "execute_result"
    }
   ],
   "source": [
    "f'My name is {my_name}'"
   ]
  },
  {
   "cell_type": "code",
   "execution_count": null,
   "id": "5676f5fd-06d7-4420-9024-568f44f2dd06",
   "metadata": {
    "editable": true,
    "slideshow": {
     "slide_type": ""
    },
    "tags": []
   },
   "outputs": [],
   "source": []
  }
 ],
 "metadata": {
  "kernelspec": {
   "display_name": "Python 3 (ipykernel)",
   "language": "python",
   "name": "python3"
  },
  "language_info": {
   "codemirror_mode": {
    "name": "ipython",
    "version": 3
   },
   "file_extension": ".py",
   "mimetype": "text/x-python",
   "name": "python",
   "nbconvert_exporter": "python",
   "pygments_lexer": "ipython3",
   "version": "3.12.2"
  }
 },
 "nbformat": 4,
 "nbformat_minor": 5
}
