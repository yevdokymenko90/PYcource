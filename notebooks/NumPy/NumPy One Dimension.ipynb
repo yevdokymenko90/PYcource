{
 "cells": [
  {
   "cell_type": "code",
   "execution_count": 1,
   "id": "921895c3-a2c8-4750-ae91-7129b9b6d0a1",
   "metadata": {},
   "outputs": [],
   "source": [
    "import numpy as np"
   ]
  },
  {
   "cell_type": "code",
   "execution_count": 2,
   "id": "778fcf3f-a2d0-4cfe-b79d-a177a5ebcbab",
   "metadata": {},
   "outputs": [
    {
     "data": {
      "text/plain": [
       "<module 'numpy' from 'C:\\\\Users\\\\90evd\\\\AppData\\\\Local\\\\Programs\\\\Python\\\\Python312\\\\Lib\\\\site-packages\\\\numpy\\\\__init__.py'>"
      ]
     },
     "execution_count": 2,
     "metadata": {},
     "output_type": "execute_result"
    }
   ],
   "source": [
    "np"
   ]
  },
  {
   "cell_type": "code",
   "execution_count": 3,
   "id": "5578c2fe-494b-4b97-ba41-c82f7b5d56bf",
   "metadata": {},
   "outputs": [
    {
     "data": {
      "text/plain": [
       "array([1, 2, 3, 4])"
      ]
     },
     "execution_count": 3,
     "metadata": {},
     "output_type": "execute_result"
    }
   ],
   "source": [
    "nums_array = np.array([1, 2, 3, 4])\n",
    "nums_array"
   ]
  },
  {
   "cell_type": "code",
   "execution_count": 4,
   "id": "da8bb1dd-608d-49e1-ae5b-f3209781dc07",
   "metadata": {},
   "outputs": [
    {
     "data": {
      "text/plain": [
       "numpy.ndarray"
      ]
     },
     "execution_count": 4,
     "metadata": {},
     "output_type": "execute_result"
    }
   ],
   "source": [
    "type(nums_array)"
   ]
  },
  {
   "cell_type": "code",
   "execution_count": 5,
   "id": "fa0561d1-67c3-421f-a949-cad4d45eaf08",
   "metadata": {},
   "outputs": [
    {
     "data": {
      "text/plain": [
       "np.int64(4)"
      ]
     },
     "execution_count": 5,
     "metadata": {},
     "output_type": "execute_result"
    }
   ],
   "source": [
    "nums_array[-1]"
   ]
  },
  {
   "cell_type": "code",
   "execution_count": 6,
   "id": "446690c5-31d9-465b-b6c5-d6a2b414223c",
   "metadata": {},
   "outputs": [
    {
     "data": {
      "text/plain": [
       "(4,)"
      ]
     },
     "execution_count": 6,
     "metadata": {},
     "output_type": "execute_result"
    }
   ],
   "source": [
    "nums_array.shape"
   ]
  },
  {
   "cell_type": "code",
   "execution_count": 7,
   "id": "89b23ac9-8a73-4c1b-a7b1-07ee38071620",
   "metadata": {},
   "outputs": [
    {
     "data": {
      "text/plain": [
       "array(['True', '10', 'abc', '5.5'], dtype='<U32')"
      ]
     },
     "execution_count": 7,
     "metadata": {},
     "output_type": "execute_result"
    }
   ],
   "source": [
    "str_array = np.array([True, 10, 'abc', 5.5])\n",
    "str_array"
   ]
  },
  {
   "cell_type": "code",
   "execution_count": 9,
   "id": "64c3f5c6-2cac-4c85-be8b-6b1ed1fb626f",
   "metadata": {},
   "outputs": [
    {
     "data": {
      "text/plain": [
       "'str1024'"
      ]
     },
     "execution_count": 9,
     "metadata": {},
     "output_type": "execute_result"
    }
   ],
   "source": [
    "str_array.dtype.name\n"
   ]
  },
  {
   "cell_type": "code",
   "execution_count": 11,
   "id": "0e983ef3-75f1-426b-9beb-f21001cff5de",
   "metadata": {},
   "outputs": [
    {
     "data": {
      "text/plain": [
       "128"
      ]
     },
     "execution_count": 11,
     "metadata": {},
     "output_type": "execute_result"
    }
   ],
   "source": [
    "str_array.itemsize\n"
   ]
  },
  {
   "cell_type": "code",
   "execution_count": 12,
   "id": "9ea085fb-f331-4bb5-a336-ba26fba0fc3e",
   "metadata": {},
   "outputs": [
    {
     "data": {
      "text/plain": [
       "array([{'city': 'London'}, {'city': 'Boston'}], dtype=object)"
      ]
     },
     "execution_count": 12,
     "metadata": {},
     "output_type": "execute_result"
    }
   ],
   "source": [
    "obj_array = np.array([{'city': 'London'}, {'city': 'Boston'}])\n",
    "obj_array"
   ]
  },
  {
   "cell_type": "code",
   "execution_count": 13,
   "id": "d05b390c-92c2-4096-a342-137ae1199a92",
   "metadata": {},
   "outputs": [
    {
     "data": {
      "text/plain": [
       "'object'"
      ]
     },
     "execution_count": 13,
     "metadata": {},
     "output_type": "execute_result"
    }
   ],
   "source": [
    "obj_array.dtype.name"
   ]
  },
  {
   "cell_type": "code",
   "execution_count": 14,
   "id": "2de67d86-611b-4b17-9f55-8d701e4651b5",
   "metadata": {},
   "outputs": [
    {
     "data": {
      "text/plain": [
       "8"
      ]
     },
     "execution_count": 14,
     "metadata": {},
     "output_type": "execute_result"
    }
   ],
   "source": [
    "obj_array.itemsize"
   ]
  }
 ],
 "metadata": {
  "kernelspec": {
   "display_name": "Python 3 (ipykernel)",
   "language": "python",
   "name": "python3"
  },
  "language_info": {
   "codemirror_mode": {
    "name": "ipython",
    "version": 3
   },
   "file_extension": ".py",
   "mimetype": "text/x-python",
   "name": "python",
   "nbconvert_exporter": "python",
   "pygments_lexer": "ipython3",
   "version": "3.12.2"
  }
 },
 "nbformat": 4,
 "nbformat_minor": 5
}
